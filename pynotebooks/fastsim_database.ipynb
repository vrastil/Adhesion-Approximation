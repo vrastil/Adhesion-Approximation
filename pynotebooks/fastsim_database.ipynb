{
 "cells": [
  {
   "cell_type": "code",
   "execution_count": 1,
   "metadata": {},
   "outputs": [],
   "source": [
    "import simpy.database as database\n",
    "import simpy.data as dt\n",
    "from simpy import struct"
   ]
  },
  {
   "cell_type": "markdown",
   "metadata": {},
   "source": [
    "# Manage database\n",
    "## Initialization\n",
    "Use `database.init_database` with or without the `init` keyword for creation of the admin user."
   ]
  },
  {
   "cell_type": "code",
   "execution_count": 2,
   "metadata": {},
   "outputs": [],
   "source": [
    "a_dir = '/home/michal/Documents/GIT/FastSim/jobs/output/'\n",
    "# db = database.init_database(a_dir)\n",
    "# db = database.init_database(a_dir, init=False)"
   ]
  },
  {
   "cell_type": "markdown",
   "metadata": {},
   "source": [
    "## Connection\n",
    "For just a database with results"
   ]
  },
  {
   "cell_type": "code",
   "execution_count": 3,
   "metadata": {},
   "outputs": [
    {
     "name": "stdout",
     "output_type": "stream",
     "text": [
      "Password:········\n",
      "Successfully conected to the database.\n"
     ]
    }
   ],
   "source": [
    "db = database.connect_db()[\"fastsim\"]"
   ]
  },
  {
   "cell_type": "markdown",
   "metadata": {},
   "source": [
    "## Reinitialization\n",
    "Delete all data and add them once again"
   ]
  },
  {
   "cell_type": "code",
   "execution_count": 21,
   "metadata": {},
   "outputs": [],
   "source": [
    "# print \"Num of deleted documents: \", db.data.delete_many({}).deleted_count"
   ]
  },
  {
   "cell_type": "code",
   "execution_count": 4,
   "metadata": {},
   "outputs": [
    {
     "name": "stdout",
     "output_type": "stream",
     "text": [
      "Starting to populate the database with simulations...\n",
      "There were added 2438 new simulations to the database from 2941 in the directory.\n",
      "There are in total 2944 number of simulations.\n",
      "CHI (1034):\n",
      "\tNm = 256, NM = 512, Np = 256, L = 2000, phi = 1.0E-06, n = 0.5 (non-linear), num = 50\n",
      "\tNm = 256, NM = 512, Np = 256, L = 2000, phi = 1.0E-06, n = 0.5 (linear), num = 100\n",
      "\tNm = 256, NM = 512, Np = 256, L = 2000, phi = 1.0E-05, n = 0.1 (linear), num = 99\n",
      "\tNm = 256, NM = 512, Np = 256, L = 2000, phi = 1.0E-05, n = 0.1 (non-linear), num = 52\n",
      "\tNm = 256, NM = 512, Np = 256, L = 2000, phi = 1.0E-05, n = 0.5 (linear), num = 120\n",
      "\tNm = 256, NM = 512, Np = 256, L = 1000, phi = 1.0E-05, n = 0.5 (non-linear), num = 24\n",
      "\tNm = 256, NM = 512, Np = 256, L = 1000, phi = 1.0E-05, n = 0.5 (linear), num = 48\n",
      "\tNm = 256, NM = 512, Np = 256, L = 2000, phi = 1.0E-05, n = 0.5 (non-linear), num = 55\n",
      "\tNm = 256, NM = 512, Np = 256, L = 2000, phi = 1.0E-05, n = 0.7 (linear), num = 100\n",
      "\tNm = 256, NM = 512, Np = 256, L = 2000, phi = 1.0E-05, n = 0.7 (non-linear), num = 52\n",
      "\tNm = 256, NM = 512, Np = 256, L = 2000, phi = 1.0E-04, n = 0.5 (non-linear), num = 50\n",
      "\tNm = 256, NM = 512, Np = 256, L = 2000, phi = 1.0E-04, n = 0.5 (linear), num = 100\n",
      "\tNm = 512, NM = 1024, Np = 512, L = 500, phi = 1.0E-05, n = 0.5 (non-linear), num = 44\n",
      "\tNm = 512, NM = 1024, Np = 512, L = 500, phi = 1.0E-05, n = 0.5 (linear), num = 48\n",
      "\tNm = 512, NM = 1024, Np = 512, L = 100, phi = 1.0E-05, n = 0.5 (non-linear), num = 44\n",
      "\tNm = 512, NM = 1024, Np = 512, L = 100, phi = 1.0E-05, n = 0.5 (linear), num = 48\n",
      "FF (544):\n",
      "\tNm = 512, NM = 1024, Np = 512, L = 2000, num = 191\n",
      "\tNm = 512, NM = 1024, Np = 512, L = 500, num = 188\n",
      "\tNm = 512, NM = 1024, Np = 512, L = 100, num = 165\n",
      "FP (706):\n",
      "\tNm = 256, NM = 512, Np = 256, L = 1000, num = 54\n",
      "\tNm = 256, NM = 512, Np = 256, L = 2000, num = 100\n",
      "\tNm = 512, NM = 1024, Np = 512, L = 2000, num = 198\n",
      "\tNm = 512, NM = 1024, Np = 512, L = 100, num = 168\n",
      "\tNm = 512, NM = 1024, Np = 512, L = 500, num = 186\n",
      "TZA (154):\n",
      "\tNm = 512, NM = 1024, Np = 512, L = 2000, num = 87\n",
      "\tNm = 512, NM = 1024, Np = 512, L = 500, num = 47\n",
      "\tNm = 512, NM = 1024, Np = 512, L = 100, num = 20\n",
      "ZA (506):\n",
      "\tNm = 512, NM = 1024, Np = 512, L = 2000, num = 169\n",
      "\tNm = 512, NM = 1024, Np = 512, L = 500, num = 173\n",
      "\tNm = 512, NM = 1024, Np = 512, L = 100, num = 161\n"
     ]
    }
   ],
   "source": [
    "# a_dir = '/home/michal/Documents/GIT/FastSim/jobs/output/ZA_run/'\n",
    "database.add_many_sim_data(a_dir, db, override=True)"
   ]
  },
  {
   "cell_type": "markdown",
   "metadata": {},
   "source": [
    "## Get info about the database"
   ]
  },
  {
   "cell_type": "code",
   "execution_count": 6,
   "metadata": {},
   "outputs": [
    {
     "name": "stdout",
     "output_type": "stream",
     "text": [
      "There are in total 2941 number of simulations.\n",
      "CHI (1034):\n",
      "\tNm = 256, NM = 512, Np = 256, L = 2000, phi = 1.0E-06, n = 0.5 (non-linear), num = 50\n",
      "\tNm = 256, NM = 512, Np = 256, L = 2000, phi = 1.0E-06, n = 0.5 (linear), num = 100\n",
      "\tNm = 256, NM = 512, Np = 256, L = 2000, phi = 1.0E-05, n = 0.1 (linear), num = 99\n",
      "\tNm = 256, NM = 512, Np = 256, L = 2000, phi = 1.0E-05, n = 0.1 (non-linear), num = 52\n",
      "\tNm = 256, NM = 512, Np = 256, L = 2000, phi = 1.0E-05, n = 0.5 (linear), num = 120\n",
      "\tNm = 256, NM = 512, Np = 256, L = 1000, phi = 1.0E-05, n = 0.5 (non-linear), num = 24\n",
      "\tNm = 256, NM = 512, Np = 256, L = 1000, phi = 1.0E-05, n = 0.5 (linear), num = 48\n",
      "\tNm = 256, NM = 512, Np = 256, L = 2000, phi = 1.0E-05, n = 0.5 (non-linear), num = 55\n",
      "\tNm = 256, NM = 512, Np = 256, L = 2000, phi = 1.0E-05, n = 0.7 (linear), num = 100\n",
      "\tNm = 256, NM = 512, Np = 256, L = 2000, phi = 1.0E-05, n = 0.7 (non-linear), num = 52\n",
      "\tNm = 256, NM = 512, Np = 256, L = 2000, phi = 1.0E-04, n = 0.5 (non-linear), num = 50\n",
      "\tNm = 256, NM = 512, Np = 256, L = 2000, phi = 1.0E-04, n = 0.5 (linear), num = 100\n",
      "\tNm = 512, NM = 1024, Np = 512, L = 500, phi = 1.0E-05, n = 0.5 (non-linear), num = 44\n",
      "\tNm = 512, NM = 1024, Np = 512, L = 500, phi = 1.0E-05, n = 0.5 (linear), num = 48\n",
      "\tNm = 512, NM = 1024, Np = 512, L = 100, phi = 1.0E-05, n = 0.5 (non-linear), num = 44\n",
      "\tNm = 512, NM = 1024, Np = 512, L = 100, phi = 1.0E-05, n = 0.5 (linear), num = 48\n",
      "FF (544):\n",
      "\tNm = 512, NM = 1024, Np = 512, L = 2000, num = 191\n",
      "\tNm = 512, NM = 1024, Np = 512, L = 500, num = 188\n",
      "\tNm = 512, NM = 1024, Np = 512, L = 100, num = 165\n",
      "FP (706):\n",
      "\tNm = 256, NM = 512, Np = 256, L = 1000, num = 54\n",
      "\tNm = 256, NM = 512, Np = 256, L = 2000, num = 100\n",
      "\tNm = 512, NM = 1024, Np = 512, L = 2000, num = 198\n",
      "\tNm = 512, NM = 1024, Np = 512, L = 100, num = 168\n",
      "\tNm = 512, NM = 1024, Np = 512, L = 500, num = 186\n",
      "TZA (154):\n",
      "\tNm = 512, NM = 1024, Np = 512, L = 2000, num = 87\n",
      "\tNm = 512, NM = 1024, Np = 512, L = 500, num = 47\n",
      "\tNm = 512, NM = 1024, Np = 512, L = 100, num = 20\n",
      "ZA (506):\n",
      "\tNm = 512, NM = 1024, Np = 512, L = 2000, num = 169\n",
      "\tNm = 512, NM = 1024, Np = 512, L = 500, num = 173\n",
      "\tNm = 512, NM = 1024, Np = 512, L = 100, num = 161\n"
     ]
    }
   ],
   "source": [
    "database.print_db_info(db)"
   ]
  },
  {
   "cell_type": "markdown",
   "metadata": {},
   "source": [
    "# Manage results\n",
    "## Single run"
   ]
  },
  {
   "cell_type": "code",
   "execution_count": 269,
   "metadata": {
    "collapsed": true
   },
   "outputs": [
    {
     "name": "stdout",
     "output_type": "stream",
     "text": [
      "\u001b[1m*******************************************************************************\n",
      "Analyzing run ZA:  $N_m = 512$  $N_M = 1024$  $N_p = 512^3$  $L = 2000$ Mpc/h  \n",
      "*******************************************************************************\u001b[0m\n",
      "step: pwr_spec                 \u001b[94m[Skipped]  (already done)\u001b[0m\n",
      "step: pwr_spec_chi             \u001b[93m[Skipped]  (missing data)\u001b[0m\n",
      "step: vel_pwr_spec             \u001b[93m[Skipped]  (missing data)\u001b[0m\n",
      "step: pwr_slope                \u001b[94m[Skipped]  (already done)\u001b[0m\n",
      "step: pwr_diff (particle)      \u001b[94m[Skipped]  (already done)\u001b[0m\n",
      "step: pwr_diff_h (hybrid)      \u001b[94m[Skipped]  (already done)\u001b[0m\n",
      "step: pwr_diff_i (input)       \u001b[94m[Skipped]  (already done)\u001b[0m\n",
      "step: vel_pwr_diff             \u001b[93m[Skipped]  (missing data)\u001b[0m\n",
      "step: chi_pwr_diff             \u001b[93m[Skipped]  (missing data)\u001b[0m\n",
      "step: pwr_spec_supp            \u001b[94m[Skipped]  (already done)\u001b[0m\n",
      "step: pwr_spec_supp_map        \u001b[94m[Skipped]  (already done)\u001b[0m\n",
      "step: vel_pwr_spec_supp        \u001b[93m[Skipped]  (missing data)\u001b[0m\n",
      "step: chi_pwr_spec_supp        \u001b[93m[Skipped]  (missing data)\u001b[0m\n",
      "step: chi_pwr_spec_supp_map    \u001b[93m[Skipped]  (missing data)\u001b[0m\n",
      "step: corr_func                \u001b[94m[Skipped]  (already done)\u001b[0m\n",
      "step: bao                      \u001b[94m[Skipped]  (already done)\u001b[0m\n",
      "step: sigma_R                  \u001b[94m[Skipped]  (already done)\u001b[0m\n",
      "step: dens_hist                \u001b[93m[Skipped]  (missing data)\u001b[0m\n",
      "step: dens_slice               \u001b[93m[Skipped]  (missing data)\u001b[0m\n",
      "step: dens_ani                 \u001b[93m[Skipped]  (missing data)\u001b[0m\n",
      "step: eff_time                 \u001b[94m[Skipped]  (already done)\u001b[0m\n",
      "\u001b[1m*******************************************************************************\n",
      "All runs analyzed!\u001b[0m\n"
     ]
    }
   ],
   "source": [
    "doc_id = db.data.find_one({}, {'_id' : 1})\n",
    "dt.analyze_all(db, query=doc_id)"
   ]
  },
  {
   "cell_type": "markdown",
   "metadata": {},
   "source": [
    "## Multiple runs"
   ]
  },
  {
   "cell_type": "code",
   "execution_count": 1,
   "metadata": {
    "scrolled": false
   },
   "outputs": [
    {
     "ename": "NameError",
     "evalue": "name 'dt' is not defined",
     "output_type": "error",
     "traceback": [
      "\u001b[0;31m---------------------------------------------------------------------------\u001b[0m",
      "\u001b[0;31mNameError\u001b[0m                                 Traceback (most recent call last)",
      "\u001b[0;32m<ipython-input-1-3222c641587d>\u001b[0m in \u001b[0;36m<module>\u001b[0;34m()\u001b[0m\n\u001b[1;32m      1\u001b[0m \u001b[0mquery\u001b[0m \u001b[0;34m=\u001b[0m \u001b[0;34m{\u001b[0m\u001b[0;34m'app'\u001b[0m \u001b[0;34m:\u001b[0m \u001b[0;34m'ZA'\u001b[0m\u001b[0;34m,\u001b[0m \u001b[0;34m'box_opt.box_size'\u001b[0m \u001b[0;34m:\u001b[0m \u001b[0;36m2000\u001b[0m\u001b[0;34m}\u001b[0m\u001b[0;34m\u001b[0m\u001b[0m\n\u001b[0;32m----> 2\u001b[0;31m \u001b[0mdt\u001b[0m\u001b[0;34m.\u001b[0m\u001b[0mstack_all\u001b[0m\u001b[0;34m(\u001b[0m\u001b[0mdb\u001b[0m\u001b[0;34m,\u001b[0m \u001b[0mquery\u001b[0m\u001b[0;34m=\u001b[0m\u001b[0mquery\u001b[0m\u001b[0;34m,\u001b[0m \u001b[0mverbose\u001b[0m\u001b[0;34m=\u001b[0m\u001b[0mTrue\u001b[0m\u001b[0;34m)\u001b[0m\u001b[0;34m\u001b[0m\u001b[0m\n\u001b[0m",
      "\u001b[0;31mNameError\u001b[0m: name 'dt' is not defined"
     ]
    }
   ],
   "source": [
    "query = {'app' : 'ZA', 'box_opt.box_size' : 2000}\n",
    "dt.stack_all(db, query=query, verbose=True)"
   ]
  },
  {
   "cell_type": "code",
   "execution_count": null,
   "metadata": {},
   "outputs": [],
   "source": []
  }
 ],
 "metadata": {
  "kernelspec": {
   "display_name": "Python 2",
   "language": "python",
   "name": "python2"
  },
  "language_info": {
   "codemirror_mode": {
    "name": "ipython",
    "version": 2
   },
   "file_extension": ".py",
   "mimetype": "text/x-python",
   "name": "python",
   "nbconvert_exporter": "python",
   "pygments_lexer": "ipython2",
   "version": "2.7.15"
  }
 },
 "nbformat": 4,
 "nbformat_minor": 2
}
