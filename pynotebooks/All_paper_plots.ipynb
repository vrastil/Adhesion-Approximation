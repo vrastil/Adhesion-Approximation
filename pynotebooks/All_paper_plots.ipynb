{
 "cells": [
  {
   "cell_type": "markdown",
   "metadata": {},
   "source": [
    "# Creation of all plots in paper\n",
    "This notebook do the following:\n",
    "1. sync all files, stack all runs, save references\n",
    "2. non-linear scale for chameleon\n",
    "3. matter power spectrum\n"
   ]
  },
  {
   "cell_type": "markdown",
   "metadata": {},
   "source": [
    "## Syncing\n",
    "File are copied from `koios:/home/users/vrastil/GIT/FastSim/jobs/output/report/` and saved to `/home/michal/Documents/GIT/FastSim/report/clanek/`"
   ]
  },
  {
   "cell_type": "code",
   "execution_count": null,
   "metadata": {},
   "outputs": [],
   "source": [
    "# import os\n",
    "# import csv\n",
    "# os.system(\"gnome-terminal -e 'bash -c \\\"/home/users/vrastil/GIT/FastSim/jobs/sync.sh\\\" '\")"
   ]
  },
  {
   "cell_type": "markdown",
   "metadata": {},
   "source": [
    "## Modules"
   ]
  },
  {
   "cell_type": "code",
   "execution_count": null,
   "metadata": {},
   "outputs": [],
   "source": [
    "%load_ext autoreload\n",
    "%autoreload 2"
   ]
  },
  {
   "cell_type": "code",
   "execution_count": null,
   "metadata": {},
   "outputs": [],
   "source": [
    "import simpy.power as pwr\n",
    "import simpy.data as dt\n",
    "import simpy.plot as pt\n",
    "import simpy.utils as ut\n",
    "from simpy import struct\n",
    "import simpy.database as database\n",
    "\n",
    "from scipy import interpolate\n",
    "import numpy as np\n",
    "import matplotlib\n",
    "import matplotlib.pyplot as plt\n",
    "%matplotlib inline"
   ]
  },
  {
   "cell_type": "markdown",
   "metadata": {},
   "source": [
    "## Connect to the database"
   ]
  },
  {
   "cell_type": "code",
   "execution_count": null,
   "metadata": {},
   "outputs": [],
   "source": [
    "db = database.connect_db()[\"fastsim\"]"
   ]
  },
  {
   "cell_type": "code",
   "execution_count": null,
   "metadata": {},
   "outputs": [],
   "source": [
    "print \"Num of deleted documents: \", db.data.delete_many({'type' : 'stack_info'}).deleted_count"
   ]
  },
  {
   "cell_type": "markdown",
   "metadata": {},
   "source": [
    "## Stack everything\n",
    "Look for new runs"
   ]
  },
  {
   "cell_type": "code",
   "execution_count": null,
   "metadata": {
    "scrolled": true
   },
   "outputs": [],
   "source": [
    "# local\n",
    "# in_dir = '/home/michal/Documents/GIT/FastSim/jobs/output/'\n",
    "# out_dir = '/home/michal/Documents/GIT/FastSim/report/clanek/'\n",
    "\n",
    "# koios\n",
    "in_dir = '/home/users/vrastil/GIT/FastSim/jobs/output/FF_run/'\n",
    "out_dir = '/home/users/vrastil/GIT/FastSim/jobs/output/report/'"
   ]
  },
  {
   "cell_type": "code",
   "execution_count": 188,
   "metadata": {},
   "outputs": [
    {
     "name": "stdout",
     "output_type": "stream",
     "text": [
      "There are in total 5916 number of simulations.\n",
      "CHI (1607):\n",
      "\tNm = 256, NM = 512, Np = 256, L = 1000, Nt = 100, phi = 1.0E-05, n = 0.5 (non-linear), num = 77\n",
      "\tNm = 256, NM = 512, Np = 256, L = 1000, Nt = 100, phi = 1.0E-05, n = 0.5 (linear), num = 101\n",
      "\tNm = 256, NM = 512, Np = 256, L = 2000, Nt = 100, phi = 1.0E-06, n = 0.5 (linear), num = 100\n",
      "\tNm = 256, NM = 512, Np = 256, L = 2000, Nt = 100, phi = 1.0E-06, n = 0.5 (non-linear), num = 96\n",
      "\tNm = 256, NM = 512, Np = 256, L = 2000, Nt = 100, phi = 1.0E-05, n = 0.1 (linear), num = 99\n",
      "\tNm = 256, NM = 512, Np = 256, L = 2000, Nt = 100, phi = 1.0E-05, n = 0.1 (non-linear), num = 100\n",
      "\tNm = 256, NM = 512, Np = 256, L = 2000, Nt = 100, phi = 1.0E-05, n = 0.5 (linear), num = 120\n",
      "\tNm = 256, NM = 512, Np = 256, L = 2000, Nt = 100, phi = 1.0E-05, n = 0.5 (non-linear), num = 102\n",
      "\tNm = 256, NM = 512, Np = 256, L = 2000, Nt = 100, phi = 1.0E-05, n = 0.7 (linear), num = 100\n",
      "\tNm = 256, NM = 512, Np = 256, L = 2000, Nt = 100, phi = 1.0E-05, n = 0.7 (non-linear), num = 99\n",
      "\tNm = 256, NM = 512, Np = 256, L = 2000, Nt = 100, phi = 1.0E-04, n = 0.5 (linear), num = 100\n",
      "\tNm = 256, NM = 512, Np = 256, L = 2000, Nt = 100, phi = 1.0E-04, n = 0.5 (non-linear), num = 99\n",
      "\tNm = 512, NM = 1024, Np = 512, L = 100, Nt = 100, phi = 1.0E-05, n = 0.5 (non-linear), num = 100\n",
      "\tNm = 512, NM = 1024, Np = 512, L = 100, Nt = 100, phi = 1.0E-05, n = 0.5 (linear), num = 100\n",
      "\tNm = 512, NM = 1024, Np = 512, L = 500, Nt = 100, phi = 1.0E-05, n = 0.5 (non-linear), num = 98\n",
      "\tNm = 512, NM = 1024, Np = 512, L = 500, Nt = 100, phi = 1.0E-05, n = 0.5 (linear), num = 100\n",
      "CHI_FF (997):\n",
      "\tNm = 256, NM = 512, Np = 256, L = 2000, Nt = 100, phi = 1.0E-05, n = 0.5 (non-linear), num = 100\n",
      "\tNm = 256, NM = 512, Np = 256, L = 2000, Nt = 100, phi = 1.0E-05, n = 0.1 (non-linear), num = 99\n",
      "\tNm = 256, NM = 512, Np = 256, L = 2000, Nt = 100, phi = 1.0E-04, n = 0.5 (linear), num = 100\n",
      "\tNm = 256, NM = 512, Np = 256, L = 2000, Nt = 100, phi = 1.0E-05, n = 0.7 (linear), num = 96\n",
      "\tNm = 256, NM = 512, Np = 256, L = 2000, Nt = 100, phi = 1.0E-06, n = 0.5 (linear), num = 98\n",
      "\tNm = 256, NM = 512, Np = 256, L = 2000, Nt = 100, phi = 1.0E-04, n = 0.5 (non-linear), num = 99\n",
      "\tNm = 256, NM = 512, Np = 256, L = 2000, Nt = 100, phi = 1.0E-05, n = 0.5 (linear), num = 97\n",
      "\tNm = 256, NM = 512, Np = 256, L = 2000, Nt = 100, phi = 1.0E-05, n = 0.1 (linear), num = 99\n",
      "\tNm = 256, NM = 512, Np = 256, L = 2000, Nt = 100, phi = 1.0E-05, n = 0.7 (non-linear), num = 100\n",
      "\tNm = 256, NM = 512, Np = 256, L = 2000, Nt = 100, phi = 1.0E-06, n = 0.5 (non-linear), num = 99\n",
      "FF (763):\n",
      "\tNm = 256, NM = 512, Np = 256, L = 2000, Nt = 100, num = 56\n",
      "\tNm = 512, NM = 1024, Np = 512, L = 100, Nt = 100, num = 211, num_vel = 55\n",
      "\tNm = 512, NM = 1024, Np = 512, L = 500, Nt = 100, num = 208, num_vel = 81\n",
      "\tNm = 512, NM = 1024, Np = 512, L = 2000, Nt = 400, num = 20\n",
      "\tNm = 512, NM = 1024, Np = 512, L = 2000, Nt = 200, num = 20\n",
      "\tNm = 512, NM = 1024, Np = 512, L = 2000, Nt = 25, num = 19\n",
      "\tNm = 512, NM = 1024, Np = 512, L = 2000, Nt = 50, num = 20\n",
      "\tNm = 512, NM = 1024, Np = 512, L = 2000, Nt = 100, num = 201, num_vel = 90\n",
      "FP (1211):\n",
      "\tNm = 256, NM = 512, Np = 256, L = 1000, Nt = 100, num = 303\n",
      "\tNm = 256, NM = 512, Np = 256, L = 2000, Nt = 100, num = 199\n",
      "\tNm = 512, NM = 1024, Np = 512, L = 100, Nt = 100, num = 212, num_vel = 57\n",
      "\tNm = 512, NM = 1024, Np = 512, L = 500, Nt = 100, num = 208, num_vel = 79\n",
      "\tNm = 512, NM = 1024, Np = 512, L = 2000, Nt = 50, num = 20\n",
      "\tNm = 512, NM = 1024, Np = 512, L = 2000, Nt = 100, num = 200, num_vel = 98\n",
      "\tNm = 512, NM = 1024, Np = 512, L = 2000, Nt = 400, num = 20\n",
      "\tNm = 512, NM = 1024, Np = 512, L = 2000, Nt = 200, num = 20\n",
      "\tNm = 512, NM = 1024, Np = 512, L = 2000, Nt = 25, num = 20\n",
      "TZA (689):\n",
      "\tNm = 512, NM = 1024, Np = 512, L = 100, Nt = 100, num = 200\n",
      "\tNm = 512, NM = 1024, Np = 512, L = 500, Nt = 100, num = 201\n",
      "\tNm = 512, NM = 1024, Np = 512, L = 2000, Nt = 200, num = 20\n",
      "\tNm = 512, NM = 1024, Np = 512, L = 2000, Nt = 400, num = 20\n",
      "\tNm = 512, NM = 1024, Np = 512, L = 2000, Nt = 25, num = 20\n",
      "\tNm = 512, NM = 1024, Np = 512, L = 2000, Nt = 100, num = 201\n",
      "\tNm = 512, NM = 1024, Np = 512, L = 2000, Nt = 50, num = 20\n",
      "ZA (706):\n",
      "\tNm = 512, NM = 1024, Np = 512, L = 100, Nt = 100, num = 211, num_vel = 50\n",
      "\tNm = 512, NM = 1024, Np = 512, L = 500, Nt = 100, num = 207, num_vel = 67\n",
      "\tNm = 512, NM = 1024, Np = 512, L = 2000, Nt = 25, num = 20\n",
      "\tNm = 512, NM = 1024, Np = 512, L = 2000, Nt = 50, num = 20\n",
      "\tNm = 512, NM = 1024, Np = 512, L = 2000, Nt = 100, num = 201, num_vel = 68\n",
      "\tNm = 512, NM = 1024, Np = 512, L = 2000, Nt = 200, num = 20\n",
      "\tNm = 512, NM = 1024, Np = 512, L = 2000, Nt = 400, num = 20\n"
     ]
    }
   ],
   "source": [
    "# database.add_many_sim_data(in_dir, db)\n",
    "database.print_db_info(db)"
   ]
  },
  {
   "cell_type": "markdown",
   "metadata": {},
   "source": [
    "Stack everything (according tp `query`)"
   ]
  },
  {
   "cell_type": "code",
   "execution_count": null,
   "metadata": {},
   "outputs": [],
   "source": [
    "# all approximations, files only\n",
    "query = None\n",
    "skip = None\n",
    "rerun = None\n",
    "stack_info = dt.stack_all(db, verbose=False, query=query, skip=skip, rerun=rerun)"
   ]
  },
  {
   "cell_type": "markdown",
   "metadata": {},
   "source": [
    "## Pipeline"
   ]
  },
  {
   "cell_type": "code",
   "execution_count": null,
   "metadata": {},
   "outputs": [],
   "source": [
    "show = True"
   ]
  },
  {
   "cell_type": "markdown",
   "metadata": {},
   "source": [
    "## Non-linear scale for chameleon\n",
    "1. Compton wavelength $\\lambda_c$\n",
    "2. chameleon field $\\chi_a$\n",
    "3. screening potential $\\Phi_{a,scr}$\n",
    "4. chameleon screening scale $k_{src}$"
   ]
  },
  {
   "cell_type": "code",
   "execution_count": null,
   "metadata": {},
   "outputs": [],
   "source": [
    "n = [0.1,0.5]\n",
    "phi = [10**(-6), 10**(-5)]\n",
    "dt.plot_chi_wave_pot(db, outdir=out_dir + \"chi/\", n=n, phi=phi, k_scr=False, show=show)"
   ]
  },
  {
   "cell_type": "markdown",
   "metadata": {},
   "source": [
    "## Matter Power Spectrum\n",
    "1. stack runs of the same approximations together (increase resolution range)\n",
    "2. plot power spectrum at $z=0$ with all approximation, cut to see difference at small scales\n",
    "3. plot power spectrum relative difference at different redshifts, cut to $k_{nq}/2$\n",
    "4. plot power spectrum suppresion at three different scales\n",
    "5. plot slope of the power spectrum"
   ]
  },
  {
   "cell_type": "code",
   "execution_count": null,
   "metadata": {
    "scrolled": false
   },
   "outputs": [],
   "source": [
    "dt.get_plot_mlt_pk_broad(db, out_dir=out_dir + 'pwr_spec/', z=0, show=show)\n",
    "# dt.get_plot_mlt_pk_broad(db, out_dir=out_dir + 'pwr_spec/', z=0, pk_type='vel')"
   ]
  },
  {
   "cell_type": "code",
   "execution_count": null,
   "metadata": {
    "scrolled": false
   },
   "outputs": [],
   "source": [
    "query = {'app' : dt.NON_CHI, 'type' : 'stack_info', 'integ_opt.time_step' : 0.01}\n",
    "stack_infos = dt.get_stack_infos(db, box_size=2000, mesh_num_pwr=1024, query=query)\n",
    "for stack_info in stack_infos:\n",
    "    zs, data_list = stack_info.get_zs_data(\"pwr_diff\", '*input*')\n",
    "    a = [1./(z+1.) for z in zs if z != 'init']\n",
    "    dt.correct_tza(stack_info, data_list)\n",
    "    supp = dt.load_k_supp(data_list, stack_info.k_nyquist[\"particle\"], a_sim_info=stack_info, a=a)\n",
    "    \n",
    "    # plots -- diff, supp \n",
    "    pt.plot_pwr_spec_diff_from_data(data_list, zs, stack_info, out_dir=out_dir + 'pwr_spec/', show_scales=False,\n",
    "                                 ext_title='init', show=show, add_app=True, max_nyquist=True)\n",
    "    \n",
    "    \n",
    "#     pt.plot_supp_lms(supp, a, stack_info, out_dir=out_dir + 'pwr_spec/', show=True, add_app=True, scale_in_leg=False)"
   ]
  },
  {
   "cell_type": "code",
   "execution_count": null,
   "metadata": {},
   "outputs": [],
   "source": [
    "si = dt.get_stack_infos(db, box_size=2000, mesh_num_pwr=1024)[0]\n",
    "_, data_list = si.get_zs_data(\"pwr_diff\", '*input*')\n",
    "k = data_list[0][0]\n",
    "idx_up = (np.abs(k - si.k_nyquist[\"particle\"])).argmin()\n",
    "k = data_list[0][0][0:idx_up]\n",
    "pt.plot_pwr_spec_diff_emu(zs, si, out_dir=out_dir + 'pwr_spec/', k=k, show=show, ymax=0.3)"
   ]
  },
  {
   "cell_type": "markdown",
   "metadata": {},
   "source": [
    "## Effective redshift\n",
    "1. get $a_{eff}$ for each (non-chi) stack_info\n",
    "2. plot both $P(k)$--type and $\\sigma_R$--type\n",
    "3. plot growth rate $f$"
   ]
  },
  {
   "cell_type": "code",
   "execution_count": 187,
   "metadata": {},
   "outputs": [
    {
     "data": {
      "image/png": "[encoded data removed]",
      "text/plain": [
       "<Figure size 1008x648 with 1 Axes>"
      ]
     },
     "metadata": {
      "needs_background": "light"
     },
     "output_type": "display_data"
    },
    {
     "data": {
      "image/png": "[encoded data removed]",
      "text/plain": [
       "<Figure size 720x54 with 1 Axes>"
      ]
     },
     "metadata": {
      "needs_background": "light"
     },
     "output_type": "display_data"
    }
   ],
   "source": [
    "query = {'app' : dt.NON_CHI, 'type' : 'stack_info'}\n",
    "non_chi_stack_infos = dt.get_stack_infos(db, box_size=2000, mesh_num_pwr=1024, Nt=100, query=query)\n",
    "for stack_info in non_chi_stack_infos:\n",
    "    dt.load_a_eff(stack_info)\n",
    "\n",
    "pt.plot_eff_time(non_chi_stack_infos, out_dir=out_dir + 'z_eff/', a_eff_type=\"Pk\", show=show)\n",
    "# pt.plot_eff_growth_rate(non_chi_stack_infos, out_dir=out_dir + 'z_eff/', a_eff_type=\"Pk\", show=True)"
   ]
  },
  {
   "cell_type": "code",
   "execution_count": 190,
   "metadata": {},
   "outputs": [],
   "source": [
    "query = {'app' : dt.NON_CHI, 'type' : 'stack_info'}\n",
    "non_chi_stack_infos = dt.get_stack_infos(db, box_size=2000, mesh_num_pwr=1024, Nt=0, query=query)\n",
    "popts = {}\n",
    "for stack_info in non_chi_stack_infos:\n",
    "    app = \n",
    "    dt.load_a_eff(stack_info)\n",
    "    spl = pt.get_spl(stack_info, a_eff_type=\"Pk\")\n",
    "    popts[\"%i\" % (1/stack_info.integ_opt['time_step'])] = spl.popt"
   ]
  },
  {
   "cell_type": "code",
   "execution_count": 191,
   "metadata": {},
   "outputs": [
    {
     "data": {
      "text/plain": [
       "{'100': array([ 1.00030624, -0.00238694,  0.63925657]),\n",
       " '200': array([ 1.00025938, -0.00244769,  0.54951942]),\n",
       " '25': array([ 1.00040683, -0.00375084,  0.37696727]),\n",
       " '400': array([ 1.0001961 , -0.00153926, -0.0041744 ]),\n",
       " '50': array([ 1.0004342 , -0.00309501,  0.98410626])}"
      ]
     },
     "execution_count": 191,
     "metadata": {},
     "output_type": "execute_result"
    }
   ],
   "source": [
    "popts"
   ]
  },
  {
   "cell_type": "markdown",
   "metadata": {},
   "source": [
    "## Non-linear matter power spectrum\n",
    "1. stack simulations across different runs (different box sizes)\n",
    "2. use effective redshift\n",
    "3. plot power spectrum difference\n",
    "4. plot power spectrum map\n",
    "5. amplitude of non-linear power spectrum"
   ]
  },
  {
   "cell_type": "code",
   "execution_count": null,
   "metadata": {
    "scrolled": true
   },
   "outputs": [],
   "source": [
    "# non_chi_stack_infos = results.get_subfiles(NM=1024,  app_not='CHI', app='TZA')\n",
    "# for si in non_chi_stack_infos:\n",
    "#     print(si.info_tr())\n",
    "#     zs, data_array = dt.transform_supp_data_to_z_eff(si)\n",
    "#     dt.correct_tza(si, data_array)\n",
    "#     pt.plot_pwr_spec_diff_from_data(data_array, zs, si, show_scales=False, save=False, show=True, use_z_eff=True)\n",
    "#     pt.plot_pwr_spec_diff_map_from_data(data_array, zs, si, save=False, show=True, use_z_eff=True)\n",
    "# dt.get_plot_mlt_pk_diff_broad(db, out_dir=out_dir + 'pwr_spec_nl/', plot_diff=False, show=show)"
   ]
  },
  {
   "cell_type": "code",
   "execution_count": null,
   "metadata": {
    "scrolled": false
   },
   "outputs": [],
   "source": [
    "# non_chi_stack_infos = dt.get_stack_infos(db, box_size=500, mesh_num_pwr=1024)\n",
    "\n",
    "# for si in non_chi_stack_infos:\n",
    "#     dt.get_pk_nl_amp(si)\n",
    "    \n",
    "# pt.plot_pwr_spec_nl_amp(non_chi_stack_infos, out_dir=out_dir + 'pwr_spec_nl/', show=True)"
   ]
  },
  {
   "cell_type": "markdown",
   "metadata": {},
   "source": [
    "## Correlation function\n",
    "1. simple correlation function (all approximation)\n",
    "2. correlation function difference (all approximation)\n",
    "3. correlation function peak amplitude and location (effective time)"
   ]
  },
  {
   "cell_type": "code",
   "execution_count": null,
   "metadata": {
    "scrolled": false
   },
   "outputs": [],
   "source": [
    "non_chi_stack_infos = dt.get_stack_infos(db, box_size=2000, mesh_num_pwr=1024)\n",
    "dt.corr_func_comp_plot(db, {}, sim_infos=non_chi_stack_infos, outdir=out_dir + 'corr_func/', z=0, show=show)"
   ]
  },
  {
   "cell_type": "code",
   "execution_count": null,
   "metadata": {
    "scrolled": false
   },
   "outputs": [],
   "source": [
    "non_chi_stack_infos = dt.get_stack_infos(db, box_size=2000, mesh_num_pwr=1024)\n",
    "dt.corr_func_comp_plot_peak(db, {}, sim_infos=non_chi_stack_infos, outdir=out_dir + 'corr_func/', plot_all=False, show=show)"
   ]
  },
  {
   "cell_type": "markdown",
   "metadata": {},
   "source": [
    "### Precision -- data"
   ]
  },
  {
   "cell_type": "code",
   "execution_count": null,
   "metadata": {},
   "outputs": [],
   "source": [
    "# open CSV file for writing\n",
    "filename = out_dir + 'data/precision.tex'\n",
    "with open(filename, mode='w') as data_file:\n",
    "    # get power spectrum precision, z = 0, k = 0.1 Mpc/h, 0.3 Mpc/h\n",
    "    z = 0\n",
    "    ks = [0.1, 0.2]\n",
    "    non_chi_stack_infos = dt.get_stack_infos(db, box_size=2000, mesh_num_pwr=1024)\n",
    "    \n",
    "    # write header\n",
    "    data_file.write(\"\\\\begin{tabular}{l%s}\\n\" % ('c' * (len(ks) + 3)))\n",
    "    data_file.write(\"\\t\\\\hline \\\\hline\\n\\t & \")\n",
    "    \n",
    "    for i in range(len(ks)):\n",
    "        data_file.write(\"$P_%i(k)$ & \" % (i + 1))\n",
    "        \n",
    "    data_file.write(\"amp & loc & width \\\\\\\\ \\n\\t\\\\hline\\n\")\n",
    "        \n",
    "    for si in non_chi_stack_infos:\n",
    "        data_file.write(\"\\t\" + si.app)\n",
    "\n",
    "        # get k, Pk\n",
    "        zs = si.data['zs']\n",
    "        z_idx = dt.find_nearest_idx(zs, z)\n",
    "        data = si.data['pk_data_par'][z_idx]\n",
    "\n",
    "        # get z_eff\n",
    "        a = 1./(1.+z)\n",
    "        a_idx = dt.find_nearest_idx(si.data['eff_time']['Pk']['a'], a)\n",
    "        z_eff = si.data['eff_time']['Pk']['z_eff'][a_idx]\n",
    "        a_eff = 1./(1. + z_eff)\n",
    "\n",
    "        # get precision\n",
    "        for k in ks:\n",
    "            idx = dt.find_nearest_idx(data[0], k)\n",
    "            k = data[0][idx]\n",
    "            Pk = data[1][idx]\n",
    "            Pk_nl = pwr.non_lin_pow_spec(a_eff, k, si.sim.cosmo)\n",
    "            err = abs(Pk/Pk_nl - 1)*100\n",
    "            data_file.write(' & $%.1f\\\\%%$' % err)\n",
    "\n",
    "        # get BAO peak precision, z = 0, loc, amp, width\n",
    "        bao = si.data['corr_func']['par_peak'][z_idx]['popt']\n",
    "        bao_nl = pwr.get_bao_peak(pwr.corr_func(si.sim, z=z_eff, non_lin=True))['popt']\n",
    "\n",
    "        # get precision\n",
    "        err = np.abs(bao / bao_nl - 1)*100\n",
    "        for err_ in err:\n",
    "            data_file.write(' & $%.1f\\\\%%$' % err_)\n",
    "        data_file.write(\" \\\\\\\\\\n\")\n",
    "    data_file.write(\"\\t\\\\hline \\\\hline\\n\")\n",
    "    data_file.write(\"\\\\end{tabular}\\n\")"
   ]
  },
  {
   "cell_type": "markdown",
   "metadata": {},
   "source": [
    "## Chameleon results\n",
    "1. effect of simulation resolution on resulting power spectrum\n",
    "2. growth of structures on different scales (comparison with FPA)\n",
    "3. compare different chameleon parameters (mainly through BAO peak)\n",
    "\n",
    "### Power spectrum"
   ]
  },
  {
   "cell_type": "code",
   "execution_count": null,
   "metadata": {
    "scrolled": false
   },
   "outputs": [],
   "source": [
    "# non-linear CHI\n",
    "query = {'app' : 'CHI', 'type' : 'stack_info'}\n",
    "chi_opt = {'linear' : False}\n",
    "chi_stack_infos = dt.get_stack_infos(db, query=query, chi_opt=chi_opt, mesh_num=256, box_size=2000)\n",
    "chi_stack_infos = dt.sort_chi_infos(chi_stack_infos, reverse=True)\n",
    "dt.plot_pwr_spec_comparison_si(chi_stack_infos, out_dir=out_dir + 'chi/fp_', z=0, show=show, chi=True)\n",
    "\n",
    "# non-linear CHI FF\n",
    "query = {'app' : 'CHI_FF', 'type' : 'stack_info'}\n",
    "chi_opt = {'linear' : False}\n",
    "chi_stack_infos = dt.get_stack_infos(db, query=query, chi_opt=chi_opt, mesh_num=256, box_size=2000)\n",
    "chi_stack_infos = dt.sort_chi_infos(chi_stack_infos, reverse=True)\n",
    "dt.plot_pwr_spec_comparison_si(chi_stack_infos, out_dir=out_dir + 'chi/ff_', z=0, show=show, chi=True)"
   ]
  },
  {
   "cell_type": "markdown",
   "metadata": {},
   "source": [
    "### Resolution"
   ]
  },
  {
   "cell_type": "code",
   "execution_count": null,
   "metadata": {
    "scrolled": false
   },
   "outputs": [],
   "source": [
    "dt.compare_chi_res_FP(db, out_dir=out_dir + 'chi/', show=show, reverse=True)"
   ]
  },
  {
   "cell_type": "code",
   "execution_count": null,
   "metadata": {},
   "outputs": [],
   "source": [
    "dt.compare_chi_res_FF(db, out_dir=out_dir + 'chi/', show=show, reverse=True)"
   ]
  },
  {
   "cell_type": "code",
   "execution_count": null,
   "metadata": {},
   "outputs": [],
   "source": [
    "# # non-linear\n",
    "# query = {'app' : 'CHI', 'type' : 'stack_info'}\n",
    "# chi_opt = {'linear' : False, 'n' : 0.5, 'phi' : 1e-5}\n",
    "# chi_stack_infos = dt.get_stack_infos(db, query=query, chi_opt=chi_opt)\n",
    "# chi_opt['linear'] = True\n",
    "# chi_stack_infos_lin = dt.get_stack_infos(db, query=query, chi_opt=chi_opt)\n",
    "\n",
    "# fig = plt.figure(figsize=(10, 8))\n",
    "# ax = plt.gca()\n",
    "# ax.set_xscale('log')\n",
    "# ax.set_yscale('log')\n",
    "# for si, si_lin in zip(chi_stack_infos, chi_stack_infos_lin):\n",
    "#     data = si.get_zs_data('pwr_spec', '*par*')[1][-1]\n",
    "#     k, Pk = data[0], data[1]\n",
    "#     data = si_lin.get_zs_data('pwr_spec', '*par*')[1][-1]\n",
    "#     k, Pk_lin = data[0], data[1]\n",
    "#     ax.plot(k, Pk/Pk_lin)\n",
    "    "
   ]
  },
  {
   "cell_type": "markdown",
   "metadata": {},
   "source": [
    "### Power spectrum -- vs FF, FP"
   ]
  },
  {
   "cell_type": "code",
   "execution_count": null,
   "metadata": {
    "scrolled": false
   },
   "outputs": [],
   "source": [
    "dt.compare_chi_fp(db, out_dir=out_dir + 'chi/', mesh_num=256, z=0, show=show, reverse=True)\n",
    "dt.compare_chi_fp(db, app='FF', app_chi='CHI_FF', out_dir=out_dir + 'chi/', mesh_num=256, z=0, show=show, reverse=True)"
   ]
  },
  {
   "cell_type": "markdown",
   "metadata": {},
   "source": [
    "### Correlation function"
   ]
  },
  {
   "cell_type": "code",
   "execution_count": null,
   "metadata": {},
   "outputs": [],
   "source": [
    "chi_opt = {'linear' : False, 'phi' : 1e-5, 'n' : 0.5}\n",
    "\n",
    "query = {'app' : 'CHI', 'type' : 'stack_info'}\n",
    "chi_stack_infos = dt.get_stack_infos(db, query=query, chi_opt=chi_opt, mesh_num=256, box_size=2000)\n",
    "dt.corr_func_comp_plot(db, {}, sim_infos=chi_stack_infos, outdir=out_dir + 'chi/', z=0, show=show)\n",
    "\n",
    "query = {'app' : 'CHI_FF', 'type' : 'stack_info'}\n",
    "chi_stack_infos = dt.get_stack_infos(db, query=query, chi_opt=chi_opt, mesh_num=256, box_size=2000)\n",
    "dt.corr_func_comp_plot(db, {}, sim_infos=chi_stack_infos, outdir=out_dir + 'chi/', z=0, show=show)"
   ]
  },
  {
   "cell_type": "code",
   "execution_count": null,
   "metadata": {
    "scrolled": false
   },
   "outputs": [],
   "source": [
    "query = {'app' : 'CHI', 'type' : 'stack_info'}\n",
    "\n",
    "# ylim\n",
    "yrange = {\n",
    "    'amp' : (-0.16, 0.53),\n",
    "    'loc' : (-0.008, 0.033),\n",
    "    'width' : (-0.42, 0.12)\n",
    "}\n",
    "\n",
    "# non-linear\n",
    "chi_opt = {'linear' : False}\n",
    "chi_stack_infos = dt.get_stack_infos(db, query=query, chi_opt=chi_opt, mesh_num=256, box_size=2000)\n",
    "dt.corr_func_comp_plot_peak(db, None, sim_infos=chi_stack_infos, outdir=out_dir + 'chi/nl_fp_', plot_all=False, chi=True, yrange=yrange, show=show, reverse=True)\n",
    "\n",
    "# linear\n",
    "chi_opt = {'linear' : True}\n",
    "chi_stack_infos = dt.get_stack_infos(db, query=query, chi_opt=chi_opt, mesh_num=256)\n",
    "dt.corr_func_comp_plot_peak(db, None, sim_infos=chi_stack_infos, outdir=out_dir + 'chi/lin_fp_', plot_all=False, chi=True, yrange=yrange, show=show, reverse=True)"
   ]
  },
  {
   "cell_type": "code",
   "execution_count": null,
   "metadata": {
    "scrolled": false
   },
   "outputs": [],
   "source": [
    "query = {'app' : 'CHI_FF', 'type' : 'stack_info'}\n",
    "\n",
    "# ylim\n",
    "yrange = {\n",
    "    'amp' : (-0.06, 0.83),\n",
    "    'loc' : (-0.008, 0.053),\n",
    "    'width' : (-0.62, 0.02)\n",
    "}\n",
    "\n",
    "# non-linear\n",
    "chi_opt = {'linear' : False}\n",
    "chi_stack_infos = dt.get_stack_infos(db, query=query, chi_opt=chi_opt, mesh_num=256, box_size=2000)\n",
    "dt.corr_func_comp_plot_peak(db, None, sim_infos=chi_stack_infos, outdir=out_dir + 'chi/nl_ff_', plot_all=False, chi=True, yrange=yrange, show=show, reverse=True)\n",
    "\n",
    "# linear\n",
    "# chi_opt = {'linear' : True}\n",
    "# chi_stack_infos = dt.get_stack_infos(db, query=query, chi_opt=chi_opt, mesh_num=256)\n",
    "# dt.corr_func_comp_plot_peak(db, None, sim_infos=chi_stack_infos, outdir=out_dir + 'chi/lin_ff_', plot_all=False, chi=True, yrange=yrange, show=show, reverse=True)"
   ]
  },
  {
   "cell_type": "markdown",
   "metadata": {},
   "source": [
    "### Correlation function -- vs FPA"
   ]
  },
  {
   "cell_type": "code",
   "execution_count": null,
   "metadata": {
    "scrolled": false
   },
   "outputs": [],
   "source": [
    "# dt.corr_func_chi_fp_plot_peak(db, out_dir=out_dir + \"chi/lin\", mesh_num=256, chi_opt={'linear' : True})\n",
    "# dt.corr_func_chi_fp_plot_peak(db, out_dir=out_dir + \"chi/nl\", mesh_num=256, chi_opt={'linear' : False}, yrange=yrange, show=show, reverse=True)"
   ]
  },
  {
   "cell_type": "markdown",
   "metadata": {},
   "source": [
    "### Power spectrum -- map vs FP"
   ]
  },
  {
   "cell_type": "code",
   "execution_count": null,
   "metadata": {},
   "outputs": [],
   "source": [
    "chi_info = dt.get_stack_infos(db, \n",
    "            query={'app' : 'CHI', 'type' : 'stack_info'},\n",
    "            chi_opt={'linear' : False, 'n' : 0.5, 'phi' : 1e-5},\n",
    "            mesh_num=512, box_size=500\n",
    ")[0]\n",
    "\n",
    "fp_info = dt.get_stack_infos(db, \n",
    "            query={'app' : 'FP', 'type' : 'stack_info'},\n",
    "            mesh_num=512, box_size=500\n",
    ")[0]\n",
    "\n",
    "dt.compare_chi_fp_map(chi_info, fp_info, out_dir=out_dir + \"chi/\", show=show)"
   ]
  },
  {
   "cell_type": "markdown",
   "metadata": {},
   "source": [
    "## Sigma8"
   ]
  },
  {
   "cell_type": "code",
   "execution_count": null,
   "metadata": {},
   "outputs": [],
   "source": [
    "# # param\n",
    "# mesh_num = 512\n",
    "# box_size = 2000\n",
    "# z = 0\n",
    "\n",
    "# apps = [\"ZA\", \"TZA\", \"FP\"]\n",
    "# sim_infos = []\n",
    "\n",
    "# # get SimInfo\n",
    "# for app in apps:\n",
    "#     si = dt.get_stack_infos(db, \n",
    "#             query={'app' : app, 'type' : 'stack_info'},\n",
    "#             mesh_num=mesh_num, box_size=box_size\n",
    "#     )[0]\n",
    "#     # initialize data\n",
    "#     dt.init_data(si, get_sigma=True)\n",
    "\n",
    "#     sim_infos.append(si)"
   ]
  },
  {
   "cell_type": "code",
   "execution_count": null,
   "metadata": {},
   "outputs": [],
   "source": [
    "# for si in sim_infos:\n",
    "#     app = si.app\n",
    "#     # sigma 8\n",
    "#     idx_z = dt.find_nearest_idx(si.data[\"sigma_R\"][\"zs\"], z)\n",
    "#     idx_8 = dt.find_nearest_idx(si.data[\"sigma_R\"][\"par\"][idx_z][0], 8)\n",
    "#     R8 = si.data[\"sigma_R\"][\"par\"][idx_z][0][idx_8]\n",
    "#     sigma_8 = si.data[\"sigma_R\"][\"par\"][idx_z][1][idx_8]\n",
    "    \n",
    "#     # Pk amplitude\n",
    "#     ExtraPk = si.data[\"pk_list\"][-1]\n",
    "#     A_low = ExtraPk.A_low\n",
    "\n",
    "#     # display\n",
    "#     print(\"%s: R = %.2f Mpc/h, sigma = %.6e, A = %.3f\" % (app, R8, sigma_8, A_low))\n"
   ]
  },
  {
   "cell_type": "code",
   "execution_count": null,
   "metadata": {},
   "outputs": [],
   "source": [
    "# sim.cosmo.sigma8"
   ]
  },
  {
   "cell_type": "code",
   "execution_count": null,
   "metadata": {},
   "outputs": [],
   "source": [
    "# fig = plt.figure(figsize=(10, 8))\n",
    "# ax = plt.gca()\n",
    "# R8 = 8\n",
    "# ax.set_xscale('log')\n",
    "# # ax.set_yscale('log')\n",
    "# zs = np.logspace(-1, 2)\n",
    "# sigma_ratios = []\n",
    "# for z in zs:\n",
    "#     data = pwr.sigma_R(sim, z=z)\n",
    "#     fce = interpolate.interp1d(data[0], data[1])\n",
    "#     D = pwr.growth_factor(1./(1.+z), sim.cosmo)\n",
    "#     sigma_a = sim.cosmo.sigma8*D*D\n",
    "#     sigma_8 = fce(R8)\n",
    "#     sigma_ratios.append(sigma_8/sigma_a)\n",
    "    \n",
    "# ax.plot(zs, sigma_ratios)"
   ]
  },
  {
   "cell_type": "code",
   "execution_count": null,
   "metadata": {},
   "outputs": [],
   "source": []
  },
  {
   "cell_type": "code",
   "execution_count": null,
   "metadata": {},
   "outputs": [],
   "source": []
  },
  {
   "cell_type": "code",
   "execution_count": null,
   "metadata": {},
   "outputs": [],
   "source": []
  }
 ],
 "metadata": {
  "kernelspec": {
   "display_name": "Python 2",
   "language": "python",
   "name": "python2"
  },
  "language_info": {
   "codemirror_mode": {
    "name": "ipython",
    "version": 2
   },
   "file_extension": ".py",
   "mimetype": "text/x-python",
   "name": "python",
   "nbconvert_exporter": "python",
   "pygments_lexer": "ipython2",
   "version": "2.7.15"
  }
 },
 "nbformat": 4,
 "nbformat_minor": 2
}
