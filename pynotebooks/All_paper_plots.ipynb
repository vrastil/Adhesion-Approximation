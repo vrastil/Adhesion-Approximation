{
 "cells": [
  {
   "cell_type": "markdown",
   "metadata": {},
   "source": [
    "# Creation of all plots in paper\n",
    "This notebook do the following:\n",
    "1. sync all files, stack all runs, save references\n",
    "2. non-linear scale for chameleon\n",
    "3. matter power spectrum\n"
   ]
  },
  {
   "cell_type": "markdown",
   "metadata": {},
   "source": [
    "## Syncing\n",
    "File are copied from `koios:/home/users/vrastil/GIT/FastSim/jobs/output/report/` and saved to `/home/michal/Documents/GIT/FastSim/report/clanek/`"
   ]
  },
  {
   "cell_type": "code",
   "execution_count": null,
   "metadata": {},
   "outputs": [],
   "source": [
    "import os\n",
    "os.system(\"gnome-terminal -e 'bash -c \\\"/home/users/vrastil/GIT/FastSim/jobs/sync.sh\\\" '\")"
   ]
  },
  {
   "cell_type": "markdown",
   "metadata": {},
   "source": [
    "## Modules"
   ]
  },
  {
   "cell_type": "code",
   "execution_count": 1,
   "metadata": {},
   "outputs": [],
   "source": [
    "%load_ext autoreload\n",
    "%autoreload 2"
   ]
  },
  {
   "cell_type": "code",
   "execution_count": 2,
   "metadata": {},
   "outputs": [],
   "source": [
    "import simpy.power as pwr\n",
    "import simpy.data as dt\n",
    "import simpy.plot as pt\n",
    "import simpy.utils as ut\n",
    "from simpy import struct\n",
    "import simpy.database as database\n",
    "\n",
    "from scipy import interpolate\n",
    "import numpy as np\n",
    "import matplotlib\n",
    "import matplotlib.pyplot as plt\n",
    "%matplotlib inline"
   ]
  },
  {
   "cell_type": "markdown",
   "metadata": {},
   "source": [
    "## Connect to the database"
   ]
  },
  {
   "cell_type": "code",
   "execution_count": 3,
   "metadata": {},
   "outputs": [
    {
     "name": "stdout",
     "output_type": "stream",
     "text": [
      "Password:········\n",
      "Successfully conected to the database.\n"
     ]
    }
   ],
   "source": [
    "db = database.connect_db()[\"fastsim\"]"
   ]
  },
  {
   "cell_type": "code",
   "execution_count": 4,
   "metadata": {},
   "outputs": [
    {
     "name": "stdout",
     "output_type": "stream",
     "text": [
      "Num of deleted documents:  30\n"
     ]
    }
   ],
   "source": [
    "print \"Num of deleted documents: \", db.data.delete_many({'type' : 'stack_info'}).deleted_count"
   ]
  },
  {
   "cell_type": "markdown",
   "metadata": {},
   "source": [
    "## Stack everything\n",
    "Look for new runs"
   ]
  },
  {
   "cell_type": "code",
   "execution_count": 5,
   "metadata": {
    "scrolled": true
   },
   "outputs": [],
   "source": [
    "# local\n",
    "# in_dir = '/home/michal/Documents/GIT/FastSim/jobs/output/'\n",
    "# out_dir = '/home/michal/Documents/GIT/FastSim/report/clanek/'\n",
    "\n",
    "# koios\n",
    "in_dir = '/home/users/vrastil/GIT/FastSim/jobs/output/'\n",
    "out_dir = '/home/users/vrastil/GIT/FastSim/jobs/output/report/'"
   ]
  },
  {
   "cell_type": "code",
   "execution_count": 6,
   "metadata": {},
   "outputs": [
    {
     "name": "stdout",
     "output_type": "stream",
     "text": [
      "There are in total 4554 number of simulations.\n",
      "CHI (1591):\n",
      "\tNm = 256, NM = 512, Np = 256, L = 1000, phi = 1.0E-05, n = 0.5 (non-linear), num = 77\n",
      "\tNm = 256, NM = 512, Np = 256, L = 1000, phi = 1.0E-05, n = 0.5 (linear), num = 101\n",
      "\tNm = 256, NM = 512, Np = 256, L = 2000, phi = 1.0E-06, n = 0.5 (linear), num = 100\n",
      "\tNm = 256, NM = 512, Np = 256, L = 2000, phi = 1.0E-06, n = 0.5 (non-linear), num = 96\n",
      "\tNm = 256, NM = 512, Np = 256, L = 2000, phi = 1.0E-05, n = 0.1 (linear), num = 99\n",
      "\tNm = 256, NM = 512, Np = 256, L = 2000, phi = 1.0E-05, n = 0.1 (non-linear), num = 100\n",
      "\tNm = 256, NM = 512, Np = 256, L = 2000, phi = 1.0E-05, n = 0.5 (linear), num = 120\n",
      "\tNm = 256, NM = 512, Np = 256, L = 2000, phi = 1.0E-05, n = 0.5 (non-linear), num = 102\n",
      "\tNm = 256, NM = 512, Np = 256, L = 2000, phi = 1.0E-05, n = 0.7 (linear), num = 100\n",
      "\tNm = 256, NM = 512, Np = 256, L = 2000, phi = 1.0E-05, n = 0.7 (non-linear), num = 99\n",
      "\tNm = 256, NM = 512, Np = 256, L = 2000, phi = 1.0E-04, n = 0.5 (linear), num = 100\n",
      "\tNm = 256, NM = 512, Np = 256, L = 2000, phi = 1.0E-04, n = 0.5 (non-linear), num = 99\n",
      "\tNm = 512, NM = 1024, Np = 512, L = 100, phi = 1.0E-05, n = 0.5 (non-linear), num = 100\n",
      "\tNm = 512, NM = 1024, Np = 512, L = 100, phi = 1.0E-05, n = 0.5 (linear), num = 100\n",
      "\tNm = 512, NM = 1024, Np = 512, L = 500, phi = 1.0E-05, n = 0.5 (non-linear), num = 98\n",
      "\tNm = 512, NM = 1024, Np = 512, L = 500, phi = 1.0E-05, n = 0.5 (linear), num = 100\n",
      "FF (620):\n",
      "\tNm = 512, NM = 1024, Np = 512, L = 100, num = 211, num_vel = 55\n",
      "\tNm = 512, NM = 1024, Np = 512, L = 500, num = 208, num_vel = 81\n",
      "\tNm = 512, NM = 1024, Np = 512, L = 2000, num = 201, num_vel = 90\n",
      "FP (1122):\n",
      "\tNm = 256, NM = 512, Np = 256, L = 1000, num = 303\n",
      "\tNm = 256, NM = 512, Np = 256, L = 2000, num = 199\n",
      "\tNm = 512, NM = 1024, Np = 512, L = 100, num = 212, num_vel = 57\n",
      "\tNm = 512, NM = 1024, Np = 512, L = 500, num = 208, num_vel = 79\n",
      "\tNm = 512, NM = 1024, Np = 512, L = 2000, num = 200, num_vel = 98\n",
      "TZA (602):\n",
      "\tNm = 512, NM = 1024, Np = 512, L = 100, num = 200\n",
      "\tNm = 512, NM = 1024, Np = 512, L = 500, num = 201\n",
      "\tNm = 512, NM = 1024, Np = 512, L = 2000, num = 201\n",
      "ZA (619):\n",
      "\tNm = 512, NM = 1024, Np = 512, L = 100, num = 211, num_vel = 50\n",
      "\tNm = 512, NM = 1024, Np = 512, L = 500, num = 207, num_vel = 67\n",
      "\tNm = 512, NM = 1024, Np = 512, L = 2000, num = 201, num_vel = 68\n"
     ]
    }
   ],
   "source": [
    "# database.add_many_sim_data(in_dir, db)\n",
    "database.print_db_info(db)"
   ]
  },
  {
   "cell_type": "markdown",
   "metadata": {},
   "source": [
    "Stack everything (according tp `query`)"
   ]
  },
  {
   "cell_type": "code",
   "execution_count": 7,
   "metadata": {},
   "outputs": [
    {
     "name": "stdout",
     "output_type": "stream",
     "text": [
      "Stacking group 25/30"
     ]
    },
    {
     "name": "stderr",
     "output_type": "stream",
     "text": [
      "/sw/local/el7/x86_64/software/lang/Python/2.7.15-intel-2018b/lib/python2.7/site-packages/numpy-1.15.4-py2.7-linux-x86_64.egg/numpy/core/_methods.py:117: RuntimeWarning: invalid value encountered in subtract\n",
      "  x = asanyarray(arr - arrmean)\n",
      "/sw/local/el7/x86_64/software/lang/Python/2.7.15-intel-2018b/lib/python2.7/site-packages/numpy-1.15.4-py2.7-linux-x86_64.egg/numpy/core/_methods.py:121: RuntimeWarning: overflow encountered in multiply\n",
      "  x = um.multiply(x, x, out=x)\n"
     ]
    },
    {
     "name": "stdout",
     "output_type": "stream",
     "text": [
      "Stacking group 30/30\n",
      "\n"
     ]
    }
   ],
   "source": [
    "# all approximations, files only\n",
    "query = None\n",
    "skip = None\n",
    "rerun = None\n",
    "stack_info = dt.stack_all(db, verbose=False, query=query, skip=skip, rerun=rerun)"
   ]
  },
  {
   "cell_type": "markdown",
   "metadata": {},
   "source": [
    "## Pipeline"
   ]
  },
  {
   "cell_type": "code",
   "execution_count": 297,
   "metadata": {},
   "outputs": [],
   "source": [
    "show = False"
   ]
  },
  {
   "cell_type": "markdown",
   "metadata": {},
   "source": [
    "## Non-linear scale for chameleon\n",
    "1. Compton wavelength $\\lambda_c$\n",
    "2. chameleon field $\\chi_a$\n",
    "3. screening potential $\\Phi_{a,scr}$\n",
    "4. chameleon screening scale $k_{src}$"
   ]
  },
  {
   "cell_type": "code",
   "execution_count": 298,
   "metadata": {},
   "outputs": [],
   "source": [
    "n = [0.1,0.5]\n",
    "phi = [10**(-6), 10**(-5)]\n",
    "dt.plot_chi_wave_pot(db, outdir=out_dir + \"chi/\", n=n, phi=phi, k_scr=False, show=show)"
   ]
  },
  {
   "cell_type": "markdown",
   "metadata": {},
   "source": [
    "## Matter Power Spectrum\n",
    "1. stack runs of the same approximations together (increase resolution range)\n",
    "2. plot power spectrum at $z=0$ with all approximation, cut to see difference at small scales\n",
    "3. plot power spectrum relative difference at different redshifts, cut to $k_{nq}/2$\n",
    "4. plot power spectrum suppresion at three different scales\n",
    "5. plot slope of the power spectrum"
   ]
  },
  {
   "cell_type": "code",
   "execution_count": 299,
   "metadata": {
    "scrolled": false
   },
   "outputs": [],
   "source": [
    "dt.get_plot_mlt_pk_broad(db, out_dir=out_dir + 'pwr_spec/', z=0, show=show)\n",
    "# dt.get_plot_mlt_pk_broad(db, out_dir=out_dir + 'pwr_spec/', z=0, pk_type='vel')"
   ]
  },
  {
   "cell_type": "code",
   "execution_count": 300,
   "metadata": {
    "scrolled": false
   },
   "outputs": [],
   "source": [
    "query = None\n",
    "stack_infos = dt.get_stack_infos(db, box_size=2000, mesh_num_pwr=1024, query=query)\n",
    "for stack_info in stack_infos:\n",
    "    zs, data_list = stack_info.get_zs_data(\"pwr_diff\", '*input*')\n",
    "    a = [1./(z+1.) for z in zs if z != 'init']\n",
    "    dt.correct_tza(stack_info, data_list)\n",
    "    supp = dt.load_k_supp(data_list, stack_info.k_nyquist[\"particle\"], a_sim_info=stack_info, a=a)\n",
    "    \n",
    "    # plots -- diff, supp \n",
    "    pt.plot_pwr_spec_diff_from_data(data_list, zs, stack_info, out_dir=out_dir + 'pwr_spec/', show_scales=False,\n",
    "                                 ext_title='init', show=show, add_app=True, max_nyquist=True)\n",
    "    \n",
    "    \n",
    "#     pt.plot_supp_lms(supp, a, stack_info, out_dir=out_dir + 'pwr_spec/', show=True, add_app=True, scale_in_leg=False)"
   ]
  },
  {
   "cell_type": "markdown",
   "metadata": {},
   "source": [
    "## Effective redshift\n",
    "1. get $a_{eff}$ for each (non-chi) stack_info\n",
    "2. plot both $P(k)$--type and $\\sigma_R$--type\n",
    "3. plot growth rate $f$"
   ]
  },
  {
   "cell_type": "code",
   "execution_count": 301,
   "metadata": {},
   "outputs": [],
   "source": [
    "query = {'app' : {\"$in\" : ['TZA', 'ZA']}, 'type' : 'stack_info'}\n",
    "query = None\n",
    "non_chi_stack_infos = dt.get_stack_infos(db, box_size=2000, mesh_num_pwr=1024, query=query)\n",
    "for stack_info in non_chi_stack_infos:\n",
    "    dt.load_a_eff(stack_info)\n",
    "\n",
    "pt.plot_eff_time(non_chi_stack_infos, out_dir=out_dir + 'z_eff/', a_eff_type=\"Pk\", show=show)\n",
    "# pt.plot_eff_growth_rate(non_chi_stack_infos, out_dir=out_dir + 'z_eff/', a_eff_type=\"Pk\", show=True)"
   ]
  },
  {
   "cell_type": "markdown",
   "metadata": {},
   "source": [
    "## Non-linear matter power spectrum\n",
    "1. stack simulations across different runs (different box sizes)\n",
    "2. use effective redshift\n",
    "3. plot power spectrum difference\n",
    "4. plot power spectrum map\n",
    "5. amplitude of non-linear power spectrum"
   ]
  },
  {
   "cell_type": "code",
   "execution_count": 302,
   "metadata": {
    "scrolled": true
   },
   "outputs": [
    {
     "name": "stderr",
     "output_type": "stream",
     "text": [
      "/home/users/vrastil/GIT/FastSim/simpy/data.py:187: RuntimeWarning: invalid value encountered in subtract\n",
      "  data_array_new[:, 1] -= Pk_init\n"
     ]
    }
   ],
   "source": [
    "# non_chi_stack_infos = results.get_subfiles(NM=1024,  app_not='CHI', app='TZA')\n",
    "# for si in non_chi_stack_infos:\n",
    "#     print(si.info_tr())\n",
    "#     zs, data_array = dt.transform_supp_data_to_z_eff(si)\n",
    "#     dt.correct_tza(si, data_array)\n",
    "#     pt.plot_pwr_spec_diff_from_data(data_array, zs, si, show_scales=False, save=False, show=True, use_z_eff=True)\n",
    "#     pt.plot_pwr_spec_diff_map_from_data(data_array, zs, si, save=False, show=True, use_z_eff=True)\n",
    "dt.get_plot_mlt_pk_diff_broad(db, out_dir=out_dir + 'pwr_spec_nl/', plot_diff=False, show=show)"
   ]
  },
  {
   "cell_type": "code",
   "execution_count": 303,
   "metadata": {
    "scrolled": false
   },
   "outputs": [],
   "source": [
    "# non_chi_stack_infos = dt.get_stack_infos(db, box_size=500, mesh_num_pwr=1024)\n",
    "\n",
    "# for si in non_chi_stack_infos:\n",
    "#     dt.get_pk_nl_amp(si)\n",
    "    \n",
    "# pt.plot_pwr_spec_nl_amp(non_chi_stack_infos, out_dir=out_dir + 'pwr_spec_nl/', show=True)"
   ]
  },
  {
   "cell_type": "markdown",
   "metadata": {},
   "source": [
    "## Correlation function\n",
    "1. simple correlation function (all approximation)\n",
    "2. correlation function difference (all approximation)\n",
    "3. correlation function peak amplitude and location (effective time)"
   ]
  },
  {
   "cell_type": "code",
   "execution_count": 304,
   "metadata": {
    "scrolled": false
   },
   "outputs": [],
   "source": [
    "non_chi_stack_infos = dt.get_stack_infos(db, box_size=2000, mesh_num_pwr=1024)\n",
    "dt.corr_func_comp_plot(db, {}, sim_infos=non_chi_stack_infos, outdir=out_dir + 'corr_func/', z=0, show=show)"
   ]
  },
  {
   "cell_type": "code",
   "execution_count": 305,
   "metadata": {
    "scrolled": false
   },
   "outputs": [],
   "source": [
    "non_chi_stack_infos = dt.get_stack_infos(db, box_size=2000, mesh_num_pwr=1024)\n",
    "dt.corr_func_comp_plot_peak(db, {}, sim_infos=non_chi_stack_infos, outdir=out_dir + 'corr_func/', plot_all=False, show=show)"
   ]
  },
  {
   "cell_type": "markdown",
   "metadata": {},
   "source": [
    "## Chameleon results\n",
    "1. effect of simulation resolution on resulting power spectrum\n",
    "2. growth of structures on different scales (comparison with FPA)\n",
    "3. compare different chameleon parameters (mainly through BAO peak)"
   ]
  },
  {
   "cell_type": "code",
   "execution_count": 306,
   "metadata": {},
   "outputs": [],
   "source": [
    "# non-linear\n",
    "query = {'app' : 'CHI', 'type' : 'stack_info'}\n",
    "chi_opt = {'linear' : False}\n",
    "chi_stack_infos = dt.get_stack_infos(db, query=query, chi_opt=chi_opt, mesh_num=256, box_size=2000)\n",
    "chi_stack_infos.reverse()\n",
    "dt.plot_pwr_spec_comparison_si(chi_stack_infos, out_dir=out_dir + 'chi/', z=0, show=show, chi=True)"
   ]
  },
  {
   "cell_type": "code",
   "execution_count": 307,
   "metadata": {
    "scrolled": false
   },
   "outputs": [
    {
     "name": "stdout",
     "output_type": "stream",
     "text": [
      "Phi =  1e-05 \tn =  0.5\n"
     ]
    }
   ],
   "source": [
    "dt.compare_chi_res(db, out_dir=out_dir + 'chi/', show=show, reverse=True)"
   ]
  },
  {
   "cell_type": "code",
   "execution_count": 308,
   "metadata": {},
   "outputs": [],
   "source": [
    "# # non-linear\n",
    "# query = {'app' : 'CHI', 'type' : 'stack_info'}\n",
    "# chi_opt = {'linear' : False, 'n' : 0.5, 'phi' : 1e-5}\n",
    "# chi_stack_infos = dt.get_stack_infos(db, query=query, chi_opt=chi_opt)\n",
    "# chi_opt['linear'] = True\n",
    "# chi_stack_infos_lin = dt.get_stack_infos(db, query=query, chi_opt=chi_opt)\n",
    "\n",
    "# fig = plt.figure(figsize=(10, 8))\n",
    "# ax = plt.gca()\n",
    "# ax.set_xscale('log')\n",
    "# ax.set_yscale('log')\n",
    "# for si, si_lin in zip(chi_stack_infos, chi_stack_infos_lin):\n",
    "#     data = si.get_zs_data('pwr_spec', '*par*')[1][-1]\n",
    "#     k, Pk = data[0], data[1]\n",
    "#     data = si_lin.get_zs_data('pwr_spec', '*par*')[1][-1]\n",
    "#     k, Pk_lin = data[0], data[1]\n",
    "#     ax.plot(k, Pk/Pk_lin)\n",
    "    "
   ]
  },
  {
   "cell_type": "code",
   "execution_count": 309,
   "metadata": {},
   "outputs": [],
   "source": [
    "dt.compare_chi_fp(db, out_dir=out_dir + 'chi/', mesh_num=256, z=0, show=show, reverse=True)"
   ]
  },
  {
   "cell_type": "code",
   "execution_count": 310,
   "metadata": {
    "scrolled": false
   },
   "outputs": [],
   "source": [
    "query = {'app' : 'CHI', 'type' : 'stack_info'}\n",
    "\n",
    "# ylim\n",
    "yrange = {\n",
    "    'amp' : (-0.16, 0.53),\n",
    "    'loc' : (-0.008, 0.033),\n",
    "    'width' : (-0.42, 0.12)\n",
    "}\n",
    "\n",
    "# non-linear\n",
    "chi_opt = {'linear' : False}\n",
    "chi_stack_infos = dt.get_stack_infos(db, query=query, chi_opt=chi_opt, mesh_num=256, box_size=2000)\n",
    "dt.corr_func_comp_plot_peak(db, None, sim_infos=chi_stack_infos, outdir=out_dir + 'chi/nl_', plot_all=False, chi=True, yrange=yrange, show=show, reverse=True)\n",
    "\n",
    "# linear\n",
    "# chi_opt = {'linear' : True}\n",
    "# chi_stack_infos = dt.get_stack_infos(db, query=query, chi_opt=chi_opt, mesh_num=256)\n",
    "# dt.corr_func_comp_plot_peak(db, None, sim_infos=chi_stack_infos, outdir=out_dir + 'chi/lin_', plot_all=False, chit=True)"
   ]
  },
  {
   "cell_type": "markdown",
   "metadata": {},
   "source": [
    "## Direct comparison with FPA"
   ]
  },
  {
   "cell_type": "code",
   "execution_count": 311,
   "metadata": {
    "scrolled": false
   },
   "outputs": [],
   "source": [
    "# dt.corr_func_chi_fp_plot_peak(db, out_dir=out_dir + \"chi/lin\", mesh_num=256, chi_opt={'linear' : True})\n",
    "dt.corr_func_chi_fp_plot_peak(db, out_dir=out_dir + \"chi/nl\", mesh_num=256, chi_opt={'linear' : False}, yrange=yrange, show=show, reverse=True)"
   ]
  },
  {
   "cell_type": "code",
   "execution_count": 312,
   "metadata": {},
   "outputs": [],
   "source": [
    "chi_info = dt.get_stack_infos(db, \n",
    "            query={'app' : 'CHI', 'type' : 'stack_info'},\n",
    "            chi_opt={'linear' : False, 'n' : 0.5, 'phi' : 1e-5},\n",
    "            mesh_num=512, box_size=500\n",
    ")[0]\n",
    "\n",
    "fp_info = dt.get_stack_infos(db, \n",
    "            query={'app' : 'FP', 'type' : 'stack_info'},\n",
    "            mesh_num=512, box_size=500\n",
    ")[0]\n",
    "\n",
    "dt.compare_chi_fp_map(chi_info, fp_info, in_dir=in_dir, out_dir=out_dir + \"chi/\", show=show)"
   ]
  },
  {
   "cell_type": "markdown",
   "metadata": {},
   "source": [
    "## Sigma8"
   ]
  },
  {
   "cell_type": "code",
   "execution_count": 313,
   "metadata": {},
   "outputs": [],
   "source": [
    "# # param\n",
    "# mesh_num = 512\n",
    "# box_size = 2000\n",
    "# z = 0\n",
    "\n",
    "# apps = [\"ZA\", \"TZA\", \"FP\"]\n",
    "# sim_infos = []\n",
    "\n",
    "# # get SimInfo\n",
    "# for app in apps:\n",
    "#     si = dt.get_stack_infos(db, \n",
    "#             query={'app' : app, 'type' : 'stack_info'},\n",
    "#             mesh_num=mesh_num, box_size=box_size\n",
    "#     )[0]\n",
    "#     # initialize data\n",
    "#     dt.init_data(si, get_sigma=True)\n",
    "\n",
    "#     sim_infos.append(si)"
   ]
  },
  {
   "cell_type": "code",
   "execution_count": 314,
   "metadata": {},
   "outputs": [],
   "source": [
    "# for si in sim_infos:\n",
    "#     app = si.app\n",
    "#     # sigma 8\n",
    "#     idx_z = dt.find_nearest_idx(si.data[\"sigma_R\"][\"zs\"], z)\n",
    "#     idx_8 = dt.find_nearest_idx(si.data[\"sigma_R\"][\"par\"][idx_z][0], 8)\n",
    "#     R8 = si.data[\"sigma_R\"][\"par\"][idx_z][0][idx_8]\n",
    "#     sigma_8 = si.data[\"sigma_R\"][\"par\"][idx_z][1][idx_8]\n",
    "    \n",
    "#     # Pk amplitude\n",
    "#     ExtraPk = si.data[\"pk_list\"][-1]\n",
    "#     A_low = ExtraPk.A_low\n",
    "\n",
    "#     # display\n",
    "#     print(\"%s: R = %.2f Mpc/h, sigma = %.6e, A = %.3f\" % (app, R8, sigma_8, A_low))\n"
   ]
  },
  {
   "cell_type": "code",
   "execution_count": 315,
   "metadata": {},
   "outputs": [],
   "source": [
    "# sim.cosmo.sigma8"
   ]
  },
  {
   "cell_type": "code",
   "execution_count": 272,
   "metadata": {},
   "outputs": [],
   "source": [
    "# fig = plt.figure(figsize=(10, 8))\n",
    "# ax = plt.gca()\n",
    "# R8 = 8\n",
    "# ax.set_xscale('log')\n",
    "# # ax.set_yscale('log')\n",
    "# zs = np.logspace(-1, 2)\n",
    "# sigma_ratios = []\n",
    "# for z in zs:\n",
    "#     data = pwr.sigma_R(sim, z=z)\n",
    "#     fce = interpolate.interp1d(data[0], data[1])\n",
    "#     D = pwr.growth_factor(1./(1.+z), sim.cosmo)\n",
    "#     sigma_a = sim.cosmo.sigma8*D*D\n",
    "#     sigma_8 = fce(R8)\n",
    "#     sigma_ratios.append(sigma_8/sigma_a)\n",
    "    \n",
    "# ax.plot(zs, sigma_ratios)"
   ]
  },
  {
   "cell_type": "code",
   "execution_count": null,
   "metadata": {},
   "outputs": [],
   "source": []
  },
  {
   "cell_type": "code",
   "execution_count": null,
   "metadata": {},
   "outputs": [],
   "source": []
  },
  {
   "cell_type": "code",
   "execution_count": null,
   "metadata": {},
   "outputs": [],
   "source": []
  }
 ],
 "metadata": {
  "kernelspec": {
   "display_name": "Python 2",
   "language": "python",
   "name": "python2"
  },
  "language_info": {
   "codemirror_mode": {
    "name": "ipython",
    "version": 2
   },
   "file_extension": ".py",
   "mimetype": "text/x-python",
   "name": "python",
   "nbconvert_exporter": "python",
   "pygments_lexer": "ipython2",
   "version": "2.7.15"
  }
 },
 "nbformat": 4,
 "nbformat_minor": 2
}
